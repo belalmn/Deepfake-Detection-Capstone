{
 "cells": [
  {
   "cell_type": "code",
   "execution_count": 71,
   "metadata": {},
   "outputs": [],
   "source": [
    "import numpy as np\n",
    "import pandas as pd\n",
    "import os\n",
    "import matplotlib\n",
    "import seaborn as sns\n",
    "import matplotlib.pyplot as plt\n",
    "from tqdm import tqdm\n",
    "%matplotlib inline \n",
    "import cv2 as cv"
   ]
  },
  {
   "cell_type": "code",
   "execution_count": 72,
   "metadata": {},
   "outputs": [
    {
     "name": "stderr",
     "output_type": "stream",
     "text": [
      "100%|██████████| 50/50 [00:22<00:00,  2.19it/s]\n"
     ]
    }
   ],
   "source": [
    "DATA_FOLDER = 'capstone-deepfake-detection/data/interim/training_data'\n",
    "\n",
    "data_df = pd.DataFrame()\n",
    "\n",
    "for folder in tqdm(os.listdir(DATA_FOLDER)):\n",
    "    for file in os.listdir(os.path.join(DATA_FOLDER, folder)):\n",
    "        if file.endswith('.json'):\n",
    "            df = pd.read_json(os.path.join(DATA_FOLDER, folder, file)).T\n",
    "            df_test = df.copy()\n",
    "            df['has_original'] = df['original'].notnull().astype(int)\n",
    "            df = df[df['has_original'] == 1]\n",
    "            df.drop(['has_original', 'split', 'label'], axis=1, inplace=True)\n",
    "            df['folder'] = folder\n",
    "            df['file'] = df.index\n",
    "            df.sort_values(by=['folder', 'file'], inplace=True)\n",
    "            df.reset_index(drop=True, inplace=True)\n",
    "            df.columns = ['original_file', 'folder', 'deepfake_file']\n",
    "            data_df = pd.concat([data_df, df], axis=0)"
   ]
  },
  {
   "cell_type": "code",
   "execution_count": 73,
   "metadata": {},
   "outputs": [
    {
     "data": {
      "text/html": [
       "<div>\n",
       "<style scoped>\n",
       "    .dataframe tbody tr th:only-of-type {\n",
       "        vertical-align: middle;\n",
       "    }\n",
       "\n",
       "    .dataframe tbody tr th {\n",
       "        vertical-align: top;\n",
       "    }\n",
       "\n",
       "    .dataframe thead th {\n",
       "        text-align: right;\n",
       "    }\n",
       "</style>\n",
       "<table border=\"1\" class=\"dataframe\">\n",
       "  <thead>\n",
       "    <tr style=\"text-align: right;\">\n",
       "      <th></th>\n",
       "      <th>original_file</th>\n",
       "      <th>folder</th>\n",
       "      <th>deepfake_file</th>\n",
       "    </tr>\n",
       "  </thead>\n",
       "  <tbody>\n",
       "    <tr>\n",
       "      <th>0</th>\n",
       "      <td>paeclkouob.mp4</td>\n",
       "      <td>dfdc_train_part_14</td>\n",
       "      <td>aamjpjqkhc.mp4</td>\n",
       "    </tr>\n",
       "    <tr>\n",
       "      <th>1</th>\n",
       "      <td>xysjhiemoo.mp4</td>\n",
       "      <td>dfdc_train_part_14</td>\n",
       "      <td>aauffntidi.mp4</td>\n",
       "    </tr>\n",
       "    <tr>\n",
       "      <th>2</th>\n",
       "      <td>kzrjkklsin.mp4</td>\n",
       "      <td>dfdc_train_part_14</td>\n",
       "      <td>aavwzojdei.mp4</td>\n",
       "    </tr>\n",
       "    <tr>\n",
       "      <th>3</th>\n",
       "      <td>ylicdnlwlj.mp4</td>\n",
       "      <td>dfdc_train_part_14</td>\n",
       "      <td>abkkrgodfb.mp4</td>\n",
       "    </tr>\n",
       "    <tr>\n",
       "      <th>4</th>\n",
       "      <td>spoezekgpo.mp4</td>\n",
       "      <td>dfdc_train_part_14</td>\n",
       "      <td>abnkezfgga.mp4</td>\n",
       "    </tr>\n",
       "  </tbody>\n",
       "</table>\n",
       "</div>"
      ],
      "text/plain": [
       "    original_file              folder   deepfake_file\n",
       "0  paeclkouob.mp4  dfdc_train_part_14  aamjpjqkhc.mp4\n",
       "1  xysjhiemoo.mp4  dfdc_train_part_14  aauffntidi.mp4\n",
       "2  kzrjkklsin.mp4  dfdc_train_part_14  aavwzojdei.mp4\n",
       "3  ylicdnlwlj.mp4  dfdc_train_part_14  abkkrgodfb.mp4\n",
       "4  spoezekgpo.mp4  dfdc_train_part_14  abnkezfgga.mp4"
      ]
     },
     "execution_count": 73,
     "metadata": {},
     "output_type": "execute_result"
    }
   ],
   "source": [
    "data_df.head()"
   ]
  },
  {
   "cell_type": "code",
   "execution_count": 74,
   "metadata": {},
   "outputs": [],
   "source": [
    "data_df.to_csv('full_metadata.csv', index=False)"
   ]
  }
 ],
 "metadata": {
  "kernelspec": {
   "display_name": "Python 3",
   "language": "python",
   "name": "python3"
  },
  "language_info": {
   "codemirror_mode": {
    "name": "ipython",
    "version": 3
   },
   "file_extension": ".py",
   "mimetype": "text/x-python",
   "name": "python",
   "nbconvert_exporter": "python",
   "pygments_lexer": "ipython3",
   "version": "3.10.12"
  },
  "orig_nbformat": 4
 },
 "nbformat": 4,
 "nbformat_minor": 2
}
