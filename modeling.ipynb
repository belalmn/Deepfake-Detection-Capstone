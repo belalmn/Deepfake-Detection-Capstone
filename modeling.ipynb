{
 "cells": [
  {
   "cell_type": "markdown",
   "metadata": {},
   "source": [
    "# Deepfake Detection: Proof of Concept with Feature Extraction and Modeling\n",
    "## Team Quarks (Ali & Belal)\n",
    "## Objective\n",
    "The objective of this notebook is to test a proof of concept for deepfake detection. We will employ basic machine learning models to assess the predictive power of the facial landmark variance feature, which was identified as a potential indicator during our EDA.\n",
    "## Data Description\n",
    "The dataset consists of facial landmark data extracted from a series of videos. Each entry in the dataset represents a video and includes the variance of facial landmark velocities in the X and Y axes, as well as the percentage of frames in which a face was successfully detected."
   ]
  },
  {
   "cell_type": "code",
   "execution_count": 1,
   "metadata": {
    "execution": {
     "iopub.execute_input": "2023-11-07T18:25:33.280362Z",
     "iopub.status.busy": "2023-11-07T18:25:33.279869Z",
     "iopub.status.idle": "2023-11-07T18:25:39.553110Z",
     "shell.execute_reply": "2023-11-07T18:25:39.551854Z"
    }
   },
   "outputs": [
    {
     "name": "stdout",
     "output_type": "stream",
     "text": [
      "      video_name  Chin X-Axis Velocity Variance  \\\n",
      "0     yygjogokma                       4.484175   \n",
      "1     rbsqytvobx                       0.486159   \n",
      "2     zqfsdlgkvx                     311.568123   \n",
      "3     vrprflgvys                       0.690445   \n",
      "4     frgdpgbfmh                       1.456422   \n",
      "...          ...                            ...   \n",
      "3326  sejttfsefa                            NaN   \n",
      "3327  miywrjuewa                      11.097915   \n",
      "3328  hyqszrnkhz                       0.540259   \n",
      "3329  gjjvdnsuwx                       3.711649   \n",
      "3330  nwgbsdkryv                       4.956775   \n",
      "\n",
      "      Chin Y-Axis Velocity Variance  Left Eyebrow X-Axis Velocity Variance  \\\n",
      "0                          9.035285                              10.279010   \n",
      "1                          1.283731                               1.197899   \n",
      "2                       1157.834810                              13.817222   \n",
      "3                          3.933908                               0.527870   \n",
      "4                          1.161138                               3.014931   \n",
      "...                             ...                                    ...   \n",
      "3326                            NaN                                    NaN   \n",
      "3327                       6.679756                               6.834375   \n",
      "3328                       1.310818                               0.841649   \n",
      "3329                       2.842753                               0.426667   \n",
      "3330                      38.335005                               1.147755   \n",
      "\n",
      "      Left Eyebrow Y-Axis Velocity Variance  \\\n",
      "0                                  5.980399   \n",
      "1                                  0.252483   \n",
      "2                                 10.718264   \n",
      "3                                  0.971598   \n",
      "4                                 24.654931   \n",
      "...                                     ...   \n",
      "3326                                    NaN   \n",
      "3327                               1.092975   \n",
      "3328                               0.752760   \n",
      "3329                               1.608889   \n",
      "3330                               9.134875   \n",
      "\n",
      "      Right Eyebrow X-Axis Velocity Variance  \\\n",
      "0                                   6.541389   \n",
      "1                                   0.459931   \n",
      "2                                 795.112760   \n",
      "3                                   0.465621   \n",
      "4                                   2.708889   \n",
      "...                                      ...   \n",
      "3326                                     NaN   \n",
      "3327                                1.095600   \n",
      "3328                                1.067708   \n",
      "3329                                0.106667   \n",
      "3330                                7.178957   \n",
      "\n",
      "      Right Eyebrow Y-Axis Velocity Variance  \\\n",
      "0                                   3.872344   \n",
      "1                                   0.421649   \n",
      "2                                  17.390556   \n",
      "3                                   0.903669   \n",
      "4                                  23.278333   \n",
      "...                                      ...   \n",
      "3326                                     NaN   \n",
      "3327                                0.369100   \n",
      "3328                                0.744167   \n",
      "3329                                1.626667   \n",
      "3330                               10.825034   \n",
      "\n",
      "      Nose Bridge X-Axis Velocity Variance  \\\n",
      "0                                 0.981337   \n",
      "1                                 0.608398   \n",
      "2                               167.763645   \n",
      "3                                 0.365754   \n",
      "4                                 1.693766   \n",
      "...                                    ...   \n",
      "3326                                   NaN   \n",
      "3327                              1.088125   \n",
      "3328                              0.547499   \n",
      "3329                              0.347222   \n",
      "3330                              4.600624   \n",
      "\n",
      "      Nose Bridge Y-Axis Velocity Variance  Nose Tip X-Axis Velocity Variance  \\\n",
      "0                                 0.743245                           0.974010   \n",
      "1                                 0.554688                           0.509375   \n",
      "2                               210.710910                         175.434375   \n",
      "3                                 0.819619                           0.542485   \n",
      "4                                13.821181                           2.068056   \n",
      "...                                    ...                                ...   \n",
      "3326                                   NaN                                NaN   \n",
      "3327                              0.789023                           0.857500   \n",
      "3328                              0.886041                           0.434427   \n",
      "3329                              0.097222                           0.115556   \n",
      "3330                              5.154195                           3.658413   \n",
      "\n",
      "      ...  Left Eye X-Axis Velocity Variance  \\\n",
      "0     ...                          16.625567   \n",
      "1     ...                           0.738378   \n",
      "2     ...                          20.582128   \n",
      "3     ...                           0.502835   \n",
      "4     ...                           1.713723   \n",
      "...   ...                                ...   \n",
      "3326  ...                                NaN   \n",
      "3327  ...                          10.102066   \n",
      "3328  ...                           0.624988   \n",
      "3329  ...                           0.117284   \n",
      "3330  ...                           1.752583   \n",
      "\n",
      "      Left Eye Y-Axis Velocity Variance  Right Eye X-Axis Velocity Variance  \\\n",
      "0                              1.484905                            4.565924   \n",
      "1                              0.567081                            0.697615   \n",
      "2                            127.420030                          715.906431   \n",
      "3                              2.829553                            0.442143   \n",
      "4                              3.525354                            1.475104   \n",
      "...                                 ...                                 ...   \n",
      "3326                                NaN                                 NaN   \n",
      "3327                           0.865816                            1.812431   \n",
      "3328                           0.544837                            0.554000   \n",
      "3329                           1.339506                            0.240741   \n",
      "3330                           4.551020                            5.596498   \n",
      "\n",
      "      Right Eye Y-Axis Velocity Variance  Top Lip X-Axis Velocity Variance  \\\n",
      "0                               4.674371                          0.978829   \n",
      "1                               0.524293                          0.515480   \n",
      "2                             143.847029                        203.623794   \n",
      "3                               2.730934                          0.463275   \n",
      "4                               3.820590                          1.864185   \n",
      "...                                  ...                               ...   \n",
      "3326                                 NaN                               NaN   \n",
      "3327                            0.316597                          0.549375   \n",
      "3328                            0.776801                          0.745416   \n",
      "3329                            0.685185                          0.621914   \n",
      "3330                            4.630008                          3.017133   \n",
      "\n",
      "      Top Lip Y-Axis Velocity Variance  Bottom Lip X-Axis Velocity Variance  \\\n",
      "0                             0.720338                             1.731084   \n",
      "1                             0.263862                             0.484363   \n",
      "2                           944.307967                           204.060327   \n",
      "3                             2.232207                             0.617028   \n",
      "4                             4.202787                             1.897277   \n",
      "...                                ...                                  ...   \n",
      "3326                               NaN                                  NaN   \n",
      "3327                          0.396593                             0.556593   \n",
      "3328                          0.341134                             0.916278   \n",
      "3329                          0.047840                             0.649691   \n",
      "3330                         16.291100                             3.591648   \n",
      "\n",
      "      Bottom Lip Y-Axis Velocity Variance  Face Detection Percentage  \\\n",
      "0                                1.777187                      100.0   \n",
      "1                                0.821747                      100.0   \n",
      "2                             1070.435185                      100.0   \n",
      "3                                2.668773                       78.0   \n",
      "4                                2.158553                      100.0   \n",
      "...                                   ...                        ...   \n",
      "3326                                  NaN                        0.0   \n",
      "3327                             0.453056                       90.0   \n",
      "3328                             0.731192                      100.0   \n",
      "3329                             1.532407                       16.0   \n",
      "3330                            19.884921                       62.0   \n",
      "\n",
      "      Video Authenticity Label  \n",
      "0                         FAKE  \n",
      "1                         REAL  \n",
      "2                         REAL  \n",
      "3                         FAKE  \n",
      "4                         FAKE  \n",
      "...                        ...  \n",
      "3326                      REAL  \n",
      "3327                      FAKE  \n",
      "3328                      REAL  \n",
      "3329                      REAL  \n",
      "3330                      FAKE  \n",
      "\n",
      "[3331 rows x 21 columns]\n"
     ]
    }
   ],
   "source": [
    "import os\n",
    "import pandas as pd\n",
    "import json\n",
    "\n",
    "def create_dataframe_from_json(directory):\n",
    "    data = []\n",
    "    errors = []\n",
    "\n",
    "    # List all files in the given directory\n",
    "    for filename in os.listdir(directory):\n",
    "        if filename.endswith('.json'):\n",
    "            file_path = os.path.join(directory, filename)\n",
    "\n",
    "            try:\n",
    "                # Read the JSON file\n",
    "                with open(file_path, 'r') as file:\n",
    "                    json_data = json.load(file)\n",
    "                    \n",
    "                # Start the dictionary with the video name\n",
    "                video_data = {'video_name': filename.replace('.json', '')}\n",
    "                # Update this dictionary with the overall_features\n",
    "                video_data.update(json_data.get(\"overall_features\", {}))\n",
    "\n",
    "                data.append(video_data)\n",
    "\n",
    "            except Exception as e:\n",
    "                errors.append((filename, str(e)))\n",
    "\n",
    "    # Create a DataFrame\n",
    "    df = pd.DataFrame(data)\n",
    "\n",
    "    # Rename columns to be more descriptive\n",
    "    column_renaming = {\n",
    "        'chin_xvel_var': 'Chin X-Axis Velocity Variance',\n",
    "        'chin_yvel_var': 'Chin Y-Axis Velocity Variance',\n",
    "        'left_eyebrow_xvel_var': 'Left Eyebrow X-Axis Velocity Variance',\n",
    "        'left_eyebrow_yvel_var': 'Left Eyebrow Y-Axis Velocity Variance',\n",
    "        'right_eyebrow_xvel_var': 'Right Eyebrow X-Axis Velocity Variance',\n",
    "        'right_eyebrow_yvel_var': 'Right Eyebrow Y-Axis Velocity Variance',\n",
    "        'nose_bridge_xvel_var': 'Nose Bridge X-Axis Velocity Variance',\n",
    "        'nose_bridge_yvel_var': 'Nose Bridge Y-Axis Velocity Variance',\n",
    "        'nose_tip_xvel_var': 'Nose Tip X-Axis Velocity Variance',\n",
    "        'nose_tip_yvel_var': 'Nose Tip Y-Axis Velocity Variance',\n",
    "        'left_eye_xvel_var': 'Left Eye X-Axis Velocity Variance',\n",
    "        'left_eye_yvel_var': 'Left Eye Y-Axis Velocity Variance',\n",
    "        'right_eye_xvel_var': 'Right Eye X-Axis Velocity Variance',\n",
    "        'right_eye_yvel_var': 'Right Eye Y-Axis Velocity Variance',\n",
    "        'top_lip_xvel_var': 'Top Lip X-Axis Velocity Variance',\n",
    "        'top_lip_yvel_var': 'Top Lip Y-Axis Velocity Variance',\n",
    "        'bottom_lip_xvel_var': 'Bottom Lip X-Axis Velocity Variance',\n",
    "        'bottom_lip_yvel_var': 'Bottom Lip Y-Axis Velocity Variance',\n",
    "        'face_detection_percentage': 'Face Detection Percentage',\n",
    "        'label': 'Video Authenticity Label'\n",
    "    }\n",
    "    df = df.rename(columns=column_renaming)\n",
    "\n",
    "    return df, errors\n",
    "\n",
    "directory_path = \"/data1/belalm/Capstone/data/landmarks\"\n",
    "df, errors = create_dataframe_from_json(directory_path)\n",
    "\n",
    "print(df) \n",
    "\n",
    "if errors:\n",
    "    print(\"Errors encountered:\")\n",
    "    for error in errors:\n",
    "        print(error)\n"
   ]
  },
  {
   "cell_type": "markdown",
   "metadata": {},
   "source": [
    "## Model Testing\n",
    "In this section, we load the preprocessed data and implement several machine learning models to assess their performance.\n"
   ]
  },
  {
   "cell_type": "code",
   "execution_count": 2,
   "metadata": {
    "execution": {
     "iopub.execute_input": "2023-11-07T18:25:39.589276Z",
     "iopub.status.busy": "2023-11-07T18:25:39.588777Z",
     "iopub.status.idle": "2023-11-07T18:25:39.984629Z",
     "shell.execute_reply": "2023-11-07T18:25:39.983403Z"
    }
   },
   "outputs": [],
   "source": [
    "from sklearn.model_selection import train_test_split\n",
    "from sklearn.linear_model import LogisticRegression\n",
    "from sklearn.svm import SVC\n",
    "from sklearn.metrics import classification_report, accuracy_score\n",
    "from sklearn.preprocessing import StandardScaler\n",
    "from sklearn.impute import SimpleImputer\n",
    "\n",
    "X = df.drop(['video_name', 'Video Authenticity Label'], axis=1)\n",
    "y = df['Video Authenticity Label'].map({'FAKE': 0, 'REAL': 1})  # Convert labels to binary\n",
    "\n",
    "# Split the dataset into training and testing sets\n",
    "X_train, X_test, y_train, y_test = train_test_split(X, y, test_size=0.2, random_state=42)\n",
    "\n",
    "# Impute missing values using the mean of each column\n",
    "imputer = SimpleImputer(strategy='mean')\n",
    "X_train_imputed = imputer.fit_transform(X_train)\n",
    "X_test_imputed = imputer.transform(X_test)\n",
    "\n",
    "# Scale the features to be used by SVM\n",
    "scaler = StandardScaler()\n",
    "X_train_scaled = scaler.fit_transform(X_train_imputed)\n",
    "X_test_scaled = scaler.transform(X_test_imputed)\n"
   ]
  },
  {
   "cell_type": "markdown",
   "metadata": {},
   "source": [
    "## Model Selection Rationale\n",
    "### Logistic Regression, SVM, Random Forest, Gradient Boosting\n",
    "- Chosen for their efficacy in binary classification tasks.\n",
    "- **Assumptions and Limitations:** Each model's assumptions are evaluated against the data characteristics.\n",
    "- **Model Comparisons:** Theoretical and practical aspects are compared."
   ]
  },
  {
   "cell_type": "markdown",
   "metadata": {},
   "source": [
    "## Cross-Validation Strategy\n",
    "### 5-Fold Cross-Validation\n",
    "- Ensures robust performance estimation.\n",
    "- Results imply model generalizability."
   ]
  },
  {
   "cell_type": "markdown",
   "metadata": {},
   "source": [
    "## Train a Logistic Regression model"
   ]
  },
  {
   "cell_type": "code",
   "execution_count": 3,
   "metadata": {
    "execution": {
     "iopub.execute_input": "2023-11-07T18:25:39.990284Z",
     "iopub.status.busy": "2023-11-07T18:25:39.990045Z",
     "iopub.status.idle": "2023-11-07T18:25:40.012213Z",
     "shell.execute_reply": "2023-11-07T18:25:40.011301Z"
    }
   },
   "outputs": [
    {
     "name": "stdout",
     "output_type": "stream",
     "text": [
      "Logistic Regression Accuracy: 0.5907046476761619\n",
      "              precision    recall  f1-score   support\n",
      "\n",
      "           0       0.69      0.32      0.44       332\n",
      "           1       0.56      0.86      0.68       335\n",
      "\n",
      "    accuracy                           0.59       667\n",
      "   macro avg       0.63      0.59      0.56       667\n",
      "weighted avg       0.63      0.59      0.56       667\n",
      "\n"
     ]
    }
   ],
   "source": [
    "# Initialize the Logistic Regression model\n",
    "logistic_model = LogisticRegression(max_iter=1000)\n",
    "\n",
    "# Train the model using the imputed and scaled training data\n",
    "logistic_model.fit(X_train_scaled, y_train)\n",
    "\n",
    "# Predict on the imputed and scaled test set\n",
    "logistic_predictions = logistic_model.predict(X_test_scaled)\n",
    "\n",
    "# Evaluate the Logistic Regression model\n",
    "logistic_accuracy = accuracy_score(y_test, logistic_predictions)\n",
    "print(f\"Logistic Regression Accuracy: {logistic_accuracy}\")\n",
    "print(classification_report(y_test, logistic_predictions))\n"
   ]
  },
  {
   "cell_type": "code",
   "execution_count": 4,
   "metadata": {
    "execution": {
     "iopub.execute_input": "2023-11-07T18:25:40.014737Z",
     "iopub.status.busy": "2023-11-07T18:25:40.014461Z",
     "iopub.status.idle": "2023-11-07T18:25:40.058827Z",
     "shell.execute_reply": "2023-11-07T18:25:40.058297Z"
    }
   },
   "outputs": [
    {
     "name": "stdout",
     "output_type": "stream",
     "text": [
      "Logistic Regression CV scores: [0.57973734 0.61163227 0.59662289 0.55909944 0.57142857]\n",
      "Logistic Regression CV mean score: 0.5837041007772715\n"
     ]
    }
   ],
   "source": [
    "from sklearn.model_selection import cross_val_score\n",
    "\n",
    "# Perform 5-fold cross-validation for Logistic Regression\n",
    "logistic_cv_scores = cross_val_score(logistic_model, X_train_scaled, y_train, cv=5)\n",
    "print(f\"Logistic Regression CV scores: {logistic_cv_scores}\")\n",
    "print(f\"Logistic Regression CV mean score: {logistic_cv_scores.mean()}\")"
   ]
  },
  {
   "cell_type": "markdown",
   "metadata": {},
   "source": [
    "## Train a Random Forest Classifier"
   ]
  },
  {
   "cell_type": "code",
   "execution_count": 7,
   "metadata": {
    "execution": {
     "iopub.execute_input": "2023-11-07T18:25:41.164725Z",
     "iopub.status.busy": "2023-11-07T18:25:41.164529Z",
     "iopub.status.idle": "2023-11-07T18:25:42.021939Z",
     "shell.execute_reply": "2023-11-07T18:25:42.020685Z"
    }
   },
   "outputs": [
    {
     "name": "stdout",
     "output_type": "stream",
     "text": [
      "Random Forest Accuracy: 0.7466266866566716\n",
      "              precision    recall  f1-score   support\n",
      "\n",
      "           0       0.75      0.73      0.74       332\n",
      "           1       0.74      0.76      0.75       335\n",
      "\n",
      "    accuracy                           0.75       667\n",
      "   macro avg       0.75      0.75      0.75       667\n",
      "weighted avg       0.75      0.75      0.75       667\n",
      "\n"
     ]
    }
   ],
   "source": [
    "from sklearn.ensemble import RandomForestClassifier\n",
    "\n",
    "# Initialize the Random Forest model\n",
    "rf_model = RandomForestClassifier(n_estimators=100, random_state=42)\n",
    "\n",
    "# Train the Random Forest model on the imputed data (no need to scale for tree-based models)\n",
    "rf_model.fit(X_train_imputed, y_train)\n",
    "\n",
    "# Predict on the imputed test set\n",
    "rf_predictions = rf_model.predict(X_test_imputed)\n",
    "\n",
    "# Evaluate the Random Forest model\n",
    "rf_accuracy = accuracy_score(y_test, rf_predictions)\n",
    "print(f\"Random Forest Accuracy: {rf_accuracy}\")\n",
    "print(classification_report(y_test, rf_predictions))"
   ]
  },
  {
   "cell_type": "code",
   "execution_count": 8,
   "metadata": {
    "execution": {
     "iopub.execute_input": "2023-11-07T18:25:42.027243Z",
     "iopub.status.busy": "2023-11-07T18:25:42.027044Z",
     "iopub.status.idle": "2023-11-07T18:25:45.388715Z",
     "shell.execute_reply": "2023-11-07T18:25:45.387429Z"
    }
   },
   "outputs": [
    {
     "name": "stdout",
     "output_type": "stream",
     "text": [
      "Random Forest CV scores: [0.75984991 0.79362101 0.73358349 0.73921201 0.7387218 ]\n",
      "Random Forest CV mean score: 0.7529976442043195\n"
     ]
    }
   ],
   "source": [
    "# Perform 5-fold cross-validation for Random Forest\n",
    "rf_cv_scores = cross_val_score(rf_model, X_train_imputed, y_train, cv=5)\n",
    "print(f\"Random Forest CV scores: {rf_cv_scores}\")\n",
    "print(f\"Random Forest CV mean score: {rf_cv_scores.mean()}\")"
   ]
  },
  {
   "cell_type": "markdown",
   "metadata": {},
   "source": [
    "## Train a Gradient Boosting Classifier"
   ]
  },
  {
   "cell_type": "code",
   "execution_count": 9,
   "metadata": {
    "execution": {
     "iopub.execute_input": "2023-11-07T18:25:45.394441Z",
     "iopub.status.busy": "2023-11-07T18:25:45.394162Z",
     "iopub.status.idle": "2023-11-07T18:25:46.852902Z",
     "shell.execute_reply": "2023-11-07T18:25:46.851654Z"
    }
   },
   "outputs": [
    {
     "name": "stdout",
     "output_type": "stream",
     "text": [
      "Gradient Boosting Accuracy: 0.7076461769115442\n",
      "              precision    recall  f1-score   support\n",
      "\n",
      "           0       0.70      0.71      0.71       332\n",
      "           1       0.71      0.70      0.71       335\n",
      "\n",
      "    accuracy                           0.71       667\n",
      "   macro avg       0.71      0.71      0.71       667\n",
      "weighted avg       0.71      0.71      0.71       667\n",
      "\n"
     ]
    }
   ],
   "source": [
    "from sklearn.ensemble import GradientBoostingClassifier\n",
    "\n",
    "# Initialize the Gradient Boosting model\n",
    "gb_model = GradientBoostingClassifier(n_estimators=100, random_state=42)\n",
    "\n",
    "# Train the Gradient Boosting model on the imputed data\n",
    "gb_model.fit(X_train_imputed, y_train)\n",
    "\n",
    "# Predict on the imputed test set\n",
    "gb_predictions = gb_model.predict(X_test_imputed)\n",
    "\n",
    "# Evaluate the Gradient Boosting model\n",
    "gb_accuracy = accuracy_score(y_test, gb_predictions)\n",
    "print(f\"Gradient Boosting Accuracy: {gb_accuracy}\")\n",
    "print(classification_report(y_test, gb_predictions))"
   ]
  },
  {
   "cell_type": "code",
   "execution_count": 10,
   "metadata": {
    "execution": {
     "iopub.execute_input": "2023-11-07T18:25:46.862866Z",
     "iopub.status.busy": "2023-11-07T18:25:46.862655Z",
     "iopub.status.idle": "2023-11-07T18:25:52.508014Z",
     "shell.execute_reply": "2023-11-07T18:25:52.506991Z"
    }
   },
   "outputs": [
    {
     "name": "stdout",
     "output_type": "stream",
     "text": [
      "Gradient Boosting CV scores: [0.71294559 0.74296435 0.69606004 0.69606004 0.71240602]\n",
      "Gradient Boosting CV mean score: 0.712087206759864\n"
     ]
    }
   ],
   "source": [
    "# Perform 5-fold cross-validation for Gradient Boosting\n",
    "gb_cv_scores = cross_val_score(gb_model, X_train_imputed, y_train, cv=5)\n",
    "print(f\"Gradient Boosting CV scores: {gb_cv_scores}\")\n",
    "print(f\"Gradient Boosting CV mean score: {gb_cv_scores.mean()}\")"
   ]
  },
  {
   "cell_type": "markdown",
   "metadata": {},
   "source": [
    "# Conclusion\n",
    "In this notebook, we have explored a proof of concept for deepfake detection using facial landmark variance as a distinguishing feature between real and fake videos. Our initial exploratory data analysis suggested that variances in the movement of facial landmarks could be promising indicators of video authenticity.\n",
    "\n",
    "We did this by extracting facial landmark data from a subset of our video dataset and generating features based on the variance of landmark movements. We then trained basic machine learning models, including Logistic Regression and Support Vector Machines, to classify videos as real or fake based on these features.\n",
    "\n",
    "The performance of these initial models provided encouraging results, with accuracy scores that demonstrate the potential viability of using landmark variance as a feature for deepfake detection. While the accuracy is not perfect, it is significantly better than random chance, suggesting that the features contain meaningful information about video authenticity.\n",
    "\n",
    "Next Steps \n",
    "\n",
    "1.) The results from this notebook serve as a strong foundation for our next phase of work, which involves several key steps:\n",
    "\n",
    "2.) Full Dataset Training: We will scale up our efforts by training models on the full dataset, which will likely enhance the robustness and generalizability of our findings.\n",
    "\n",
    "3.) Refined Model Development: A more sophisticated model will be developed to directly compare pairs of videos — one real and one fake — to identify the inauthentic one. This approach is expected to have high accuracy as it will leverage the subtle differnces between an original and its corresponding deepfake.\n",
    "\n",
    "Feature Engineering and Model Tuning: Further feature engineering and hyperparameter tuning will be conducted to improve the models. \n",
    "\n",
    "By following these steps, we aim to develop a robust deepfake detection system that can serve as a valuable tool in the fight against digital misinformation. Our work contributes to the broader effort to maintain integrity and trust in digital media.\n",
    "\n"
   ]
  }
 ],
 "metadata": {
  "kernelspec": {
   "display_name": "Python 3",
   "language": "python",
   "name": "python3"
  },
  "language_info": {
   "codemirror_mode": {
    "name": "ipython",
    "version": 3
   },
   "file_extension": ".py",
   "mimetype": "text/x-python",
   "name": "python",
   "nbconvert_exporter": "python",
   "pygments_lexer": "ipython3",
   "version": "3.10.12"
  }
 },
 "nbformat": 4,
 "nbformat_minor": 2
}
