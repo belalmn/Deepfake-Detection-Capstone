{
 "cells": [
  {
   "cell_type": "markdown",
   "metadata": {},
   "source": [
    "# Deepfake Detection: Proof of Concept with Feature Extraction and Modeling\n",
    "## Team Quarks (Ali & Belal)\n",
    "## Objective\n",
    "The objective of this notebook is to test a proof of concept for deepfake detection. We will employ basic machine learning models to assess the predictive power of the facial landmark variance feature, which was identified as a potential indicator during our EDA.\n",
    "## Data Description\n",
    "The dataset consists of facial landmark data extracted from a series of videos. Each entry in the dataset represents a video and includes the variance of facial landmark velocities in the X and Y axes, as well as the percentage of frames in which a face was successfully detected."
   ]
  },
  {
   "cell_type": "code",
   "execution_count": 1,
   "metadata": {
    "execution": {
     "iopub.execute_input": "2023-11-15T08:00:28.200128Z",
     "iopub.status.busy": "2023-11-15T08:00:28.199532Z",
     "iopub.status.idle": "2023-11-15T08:00:55.126561Z",
     "shell.execute_reply": "2023-11-15T08:00:55.125716Z"
    }
   },
   "outputs": [
    {
     "name": "stdout",
     "output_type": "stream",
     "text": [
      "       video_name  Chin X-Axis Velocity Variance  \\\n",
      "0      hyhjfdxqxy                       0.495092   \n",
      "1      lcxsmhpfbm                       0.484788   \n",
      "2      fahbidqhcx                            NaN   \n",
      "3      mrmaimxhjn                       2.400303   \n",
      "4      yygjogokma                       4.484175   \n",
      "...           ...                            ...   \n",
      "22867  nwgbsdkryv                       4.956775   \n",
      "22868  igvyqqqxfj                       9.614184   \n",
      "22869  kverutwcbw                       0.661452   \n",
      "22870  hyzeitilgy                      62.350724   \n",
      "22871  mvfeurfoyq                       0.531911   \n",
      "\n",
      "       Chin Y-Axis Velocity Variance  Left Eyebrow X-Axis Velocity Variance  \\\n",
      "0                           2.280703                               0.916649   \n",
      "1                           1.515197                               1.699149   \n",
      "2                                NaN                                    NaN   \n",
      "3                           3.842056                               1.180833   \n",
      "4                           9.035285                              10.279010   \n",
      "...                              ...                                    ...   \n",
      "22867                      38.335005                               1.147755   \n",
      "22868                      23.926426                              65.584726   \n",
      "22869                       0.595214                               0.465000   \n",
      "22870                      12.649220                              14.334983   \n",
      "22871                       1.591766                               0.893889   \n",
      "\n",
      "       Left Eyebrow Y-Axis Velocity Variance  \\\n",
      "0                                   4.981597   \n",
      "1                                   0.512066   \n",
      "2                                        NaN   \n",
      "3                                   2.858889   \n",
      "4                                   5.980399   \n",
      "...                                      ...   \n",
      "22867                               9.134875   \n",
      "22868                              81.328091   \n",
      "22869                               0.368264   \n",
      "22870                               4.082708   \n",
      "22871                               1.600677   \n",
      "\n",
      "       Right Eyebrow X-Axis Velocity Variance  \\\n",
      "0                                    0.732344   \n",
      "1                                    1.484931   \n",
      "2                                         NaN   \n",
      "3                                    1.434167   \n",
      "4                                    6.541389   \n",
      "...                                       ...   \n",
      "22867                                7.178957   \n",
      "22868                               54.702004   \n",
      "22869                                0.612483   \n",
      "22870                               11.666389   \n",
      "22871                                0.983889   \n",
      "\n",
      "       Right Eyebrow Y-Axis Velocity Variance  \\\n",
      "0                                    4.593316   \n",
      "1                                    0.858733   \n",
      "2                                         NaN   \n",
      "3                                    2.508889   \n",
      "4                                    3.872344   \n",
      "...                                       ...   \n",
      "22867                               10.825034   \n",
      "22868                               27.536030   \n",
      "22869                                0.440000   \n",
      "22870                               31.897344   \n",
      "22871                                1.811927   \n",
      "\n",
      "       Nose Bridge X-Axis Velocity Variance  \\\n",
      "0                                  0.396891   \n",
      "1                                  0.709608   \n",
      "2                                       NaN   \n",
      "3                                  0.843750   \n",
      "4                                  0.981337   \n",
      "...                                     ...   \n",
      "22867                              4.600624   \n",
      "22868                             54.545841   \n",
      "22869                              0.430962   \n",
      "22870                             17.494548   \n",
      "22871                              0.413954   \n",
      "\n",
      "       Nose Bridge Y-Axis Velocity Variance  \\\n",
      "0                                  0.466146   \n",
      "1                                  0.667291   \n",
      "2                                       NaN   \n",
      "3                                  0.597222   \n",
      "4                                  0.743245   \n",
      "...                                     ...   \n",
      "22867                              5.154195   \n",
      "22868                             42.489130   \n",
      "22869                              0.403646   \n",
      "22870                              3.366753   \n",
      "22871                              2.243245   \n",
      "\n",
      "       Nose Tip X-Axis Velocity Variance  ...  \\\n",
      "0                               0.305399  ...   \n",
      "1                               0.642483  ...   \n",
      "2                                    NaN  ...   \n",
      "3                               0.603056  ...   \n",
      "4                               0.974010  ...   \n",
      "...                                  ...  ...   \n",
      "22867                           3.658413  ...   \n",
      "22868                          28.503894  ...   \n",
      "22869                           0.275000  ...   \n",
      "22870                          14.273316  ...   \n",
      "22871                           0.497483  ...   \n",
      "\n",
      "       Left Eye X-Axis Velocity Variance  Left Eye Y-Axis Velocity Variance  \\\n",
      "0                               0.429784                           0.504630   \n",
      "1                               0.943854                           0.806134   \n",
      "2                                    NaN                                NaN   \n",
      "3                               2.664159                           1.588542   \n",
      "4                              16.625567                           1.484905   \n",
      "...                                  ...                                ...   \n",
      "22867                           1.752583                           4.551020   \n",
      "22868                          41.696807                          42.197648   \n",
      "22869                           0.382511                           0.356433   \n",
      "22870                          10.028742                           7.275415   \n",
      "22871                           0.523148                           1.415461   \n",
      "\n",
      "       Right Eye X-Axis Velocity Variance  Right Eye Y-Axis Velocity Variance  \\\n",
      "0                                0.400029                            0.649872   \n",
      "1                                1.249409                            0.850502   \n",
      "2                                     NaN                                 NaN   \n",
      "3                                0.715085                            1.113233   \n",
      "4                                4.565924                            4.674371   \n",
      "...                                   ...                                 ...   \n",
      "22867                            5.596498                            4.630008   \n",
      "22868                           22.354232                           14.839319   \n",
      "22869                            0.704813                            0.237269   \n",
      "22870                            6.410108                           14.213240   \n",
      "22871                            0.557870                            1.372673   \n",
      "\n",
      "       Top Lip X-Axis Velocity Variance  Top Lip Y-Axis Velocity Variance  \\\n",
      "0                              0.418327                          0.682388   \n",
      "1                              0.678422                          1.284421   \n",
      "2                                   NaN                               NaN   \n",
      "3                              0.745756                          0.691358   \n",
      "4                              0.978829                          0.720338   \n",
      "...                                 ...                               ...   \n",
      "22867                          3.017133                         16.291100   \n",
      "22868                         14.099611                         32.583911   \n",
      "22869                          0.159792                          0.305697   \n",
      "22870                         15.479890                          3.134160   \n",
      "22871                          0.814884                          1.754048   \n",
      "\n",
      "       Bottom Lip X-Axis Velocity Variance  \\\n",
      "0                                 0.465781   \n",
      "1                                 0.936523   \n",
      "2                                      NaN   \n",
      "3                                 0.937500   \n",
      "4                                 1.731084   \n",
      "...                                    ...   \n",
      "22867                             3.591648   \n",
      "22868                            13.224533   \n",
      "22869                             0.165337   \n",
      "22870                            17.309820   \n",
      "22871                             0.835717   \n",
      "\n",
      "       Bottom Lip Y-Axis Velocity Variance  Face Detection Percentage  \\\n",
      "0                                 0.870367                      100.0   \n",
      "1                                 0.829906                      100.0   \n",
      "2                                      NaN                        0.0   \n",
      "3                                 1.547984                       28.0   \n",
      "4                                 1.777187                      100.0   \n",
      "...                                    ...                        ...   \n",
      "22867                            19.884921                       62.0   \n",
      "22868                            17.571440                       64.0   \n",
      "22869                             0.355176                      100.0   \n",
      "22870                             3.763814                      100.0   \n",
      "22871                             2.835766                      100.0   \n",
      "\n",
      "       Video Authenticity Label  \n",
      "0                          REAL  \n",
      "1                          FAKE  \n",
      "2                          FAKE  \n",
      "3                          REAL  \n",
      "4                          FAKE  \n",
      "...                         ...  \n",
      "22867                      FAKE  \n",
      "22868                      FAKE  \n",
      "22869                      FAKE  \n",
      "22870                      FAKE  \n",
      "22871                      FAKE  \n",
      "\n",
      "[22872 rows x 21 columns]\n"
     ]
    }
   ],
   "source": [
    "import os\n",
    "import pandas as pd\n",
    "import json\n",
    "\n",
    "def create_dataframe_from_json(directory):\n",
    "    data = []\n",
    "    errors = []\n",
    "\n",
    "    # List all files in the given directory\n",
    "    for filename in os.listdir(directory):\n",
    "        if filename.endswith('.json'):\n",
    "            file_path = os.path.join(directory, filename)\n",
    "\n",
    "            try:\n",
    "                # Read the JSON file\n",
    "                with open(file_path, 'r') as file:\n",
    "                    json_data = json.load(file)\n",
    "                    \n",
    "                # Start the dictionary with the video name\n",
    "                video_data = {'video_name': filename.replace('.json', '')}\n",
    "                # Update this dictionary with the overall_features\n",
    "                video_data.update(json_data.get(\"overall_features\", {}))\n",
    "\n",
    "                data.append(video_data)\n",
    "\n",
    "            except Exception as e:\n",
    "                errors.append((filename, str(e)))\n",
    "\n",
    "    # Create a DataFrame\n",
    "    df = pd.DataFrame(data)\n",
    "\n",
    "    # Rename columns to be more descriptive\n",
    "    column_renaming = {\n",
    "        'chin_xvel_var': 'Chin X-Axis Velocity Variance',\n",
    "        'chin_yvel_var': 'Chin Y-Axis Velocity Variance',\n",
    "        'left_eyebrow_xvel_var': 'Left Eyebrow X-Axis Velocity Variance',\n",
    "        'left_eyebrow_yvel_var': 'Left Eyebrow Y-Axis Velocity Variance',\n",
    "        'right_eyebrow_xvel_var': 'Right Eyebrow X-Axis Velocity Variance',\n",
    "        'right_eyebrow_yvel_var': 'Right Eyebrow Y-Axis Velocity Variance',\n",
    "        'nose_bridge_xvel_var': 'Nose Bridge X-Axis Velocity Variance',\n",
    "        'nose_bridge_yvel_var': 'Nose Bridge Y-Axis Velocity Variance',\n",
    "        'nose_tip_xvel_var': 'Nose Tip X-Axis Velocity Variance',\n",
    "        'nose_tip_yvel_var': 'Nose Tip Y-Axis Velocity Variance',\n",
    "        'left_eye_xvel_var': 'Left Eye X-Axis Velocity Variance',\n",
    "        'left_eye_yvel_var': 'Left Eye Y-Axis Velocity Variance',\n",
    "        'right_eye_xvel_var': 'Right Eye X-Axis Velocity Variance',\n",
    "        'right_eye_yvel_var': 'Right Eye Y-Axis Velocity Variance',\n",
    "        'top_lip_xvel_var': 'Top Lip X-Axis Velocity Variance',\n",
    "        'top_lip_yvel_var': 'Top Lip Y-Axis Velocity Variance',\n",
    "        'bottom_lip_xvel_var': 'Bottom Lip X-Axis Velocity Variance',\n",
    "        'bottom_lip_yvel_var': 'Bottom Lip Y-Axis Velocity Variance',\n",
    "        'face_detection_percentage': 'Face Detection Percentage',\n",
    "        'label': 'Video Authenticity Label'\n",
    "    }\n",
    "    df = df.rename(columns=column_renaming)\n",
    "\n",
    "    return df, errors\n",
    "\n",
    "directory_path = \"/data1/belalm/Capstone/data/landmarks\"\n",
    "df, errors = create_dataframe_from_json(directory_path)\n",
    "\n",
    "print(df) \n",
    "\n",
    "if errors:\n",
    "    print(\"Errors encountered:\")\n",
    "    for error in errors:\n",
    "        print(error)\n"
   ]
  },
  {
   "cell_type": "markdown",
   "metadata": {},
   "source": [
    "## Model Testing\n",
    "In this section, we load the preprocessed data and implement several machine learning models to assess their performance.\n"
   ]
  },
  {
   "cell_type": "code",
   "execution_count": 2,
   "metadata": {
    "execution": {
     "iopub.execute_input": "2023-11-15T08:00:55.164239Z",
     "iopub.status.busy": "2023-11-15T08:00:55.162829Z",
     "iopub.status.idle": "2023-11-15T08:00:55.491750Z",
     "shell.execute_reply": "2023-11-15T08:00:55.490378Z"
    }
   },
   "outputs": [],
   "source": [
    "from sklearn.model_selection import train_test_split\n",
    "from sklearn.linear_model import LogisticRegression\n",
    "from sklearn.svm import SVC\n",
    "from sklearn.metrics import classification_report, accuracy_score\n",
    "from sklearn.preprocessing import StandardScaler\n",
    "from sklearn.impute import SimpleImputer\n",
    "\n",
    "X = df.drop(['video_name', 'Video Authenticity Label'], axis=1)\n",
    "y = df['Video Authenticity Label'].map({'FAKE': 0, 'REAL': 1})  # Convert labels to binary\n",
    "\n",
    "# Split the dataset into training and testing sets\n",
    "X_train, X_test, y_train, y_test = train_test_split(X, y, test_size=0.2, random_state=42)\n",
    "\n",
    "# Impute missing values using the mean of each column\n",
    "imputer = SimpleImputer(strategy='mean')\n",
    "X_train_imputed = imputer.fit_transform(X_train)\n",
    "X_test_imputed = imputer.transform(X_test)\n",
    "\n",
    "# Scale the features to be used by SVM\n",
    "scaler = StandardScaler()\n",
    "X_train_scaled = scaler.fit_transform(X_train_imputed)\n",
    "X_test_scaled = scaler.transform(X_test_imputed)\n"
   ]
  },
  {
   "cell_type": "markdown",
   "metadata": {},
   "source": [
    "## Model Selection Rationale\n",
    "### Logistic Regression, SVM, Random Forest, Gradient Boosting\n",
    "- Chosen for their efficacy in binary classification tasks.\n",
    "- **Assumptions and Limitations:** Each model's assumptions are evaluated against the data characteristics.\n",
    "- **Model Comparisons:** Theoretical and practical aspects are compared."
   ]
  },
  {
   "cell_type": "markdown",
   "metadata": {},
   "source": [
    "## Cross-Validation Strategy\n",
    "### 5-Fold Cross-Validation\n",
    "- Ensures robust performance estimation.\n",
    "- Results imply model generalizability."
   ]
  },
  {
   "cell_type": "markdown",
   "metadata": {},
   "source": [
    "## Train a Logistic Regression model"
   ]
  },
  {
   "cell_type": "code",
   "execution_count": 3,
   "metadata": {
    "execution": {
     "iopub.execute_input": "2023-11-15T08:00:55.497743Z",
     "iopub.status.busy": "2023-11-15T08:00:55.497491Z",
     "iopub.status.idle": "2023-11-15T08:00:55.569754Z",
     "shell.execute_reply": "2023-11-15T08:00:55.568890Z"
    }
   },
   "outputs": [
    {
     "name": "stdout",
     "output_type": "stream",
     "text": [
      "Logistic Regression Accuracy: 0.5309289617486339\n",
      "              precision    recall  f1-score   support\n",
      "\n",
      "           0       0.62      0.24      0.34      2359\n",
      "           1       0.51      0.84      0.64      2216\n",
      "\n",
      "    accuracy                           0.53      4575\n",
      "   macro avg       0.56      0.54      0.49      4575\n",
      "weighted avg       0.56      0.53      0.48      4575\n",
      "\n"
     ]
    }
   ],
   "source": [
    "# Initialize the Logistic Regression model\n",
    "logistic_model = LogisticRegression(max_iter=1000)\n",
    "\n",
    "# Train the model using the imputed and scaled training data\n",
    "logistic_model.fit(X_train_scaled, y_train)\n",
    "\n",
    "# Predict on the imputed and scaled test set\n",
    "logistic_predictions = logistic_model.predict(X_test_scaled)\n",
    "\n",
    "# Evaluate the Logistic Regression model\n",
    "logistic_accuracy = accuracy_score(y_test, logistic_predictions)\n",
    "print(f\"Logistic Regression Accuracy: {logistic_accuracy}\")\n",
    "print(classification_report(y_test, logistic_predictions))\n"
   ]
  },
  {
   "cell_type": "code",
   "execution_count": 4,
   "metadata": {
    "execution": {
     "iopub.execute_input": "2023-11-15T08:00:55.572222Z",
     "iopub.status.busy": "2023-11-15T08:00:55.572029Z",
     "iopub.status.idle": "2023-11-15T08:00:55.722107Z",
     "shell.execute_reply": "2023-11-15T08:00:55.721583Z"
    }
   },
   "outputs": [
    {
     "name": "stdout",
     "output_type": "stream",
     "text": [
      "Logistic Regression CV scores: [0.53497268 0.52185792 0.52801312 0.54277125 0.53566548]\n",
      "Logistic Regression CV mean score: 0.5326560901557205\n"
     ]
    }
   ],
   "source": [
    "from sklearn.model_selection import cross_val_score\n",
    "\n",
    "# Perform 5-fold cross-validation for Logistic Regression\n",
    "logistic_cv_scores = cross_val_score(logistic_model, X_train_scaled, y_train, cv=5)\n",
    "print(f\"Logistic Regression CV scores: {logistic_cv_scores}\")\n",
    "print(f\"Logistic Regression CV mean score: {logistic_cv_scores.mean()}\")"
   ]
  },
  {
   "cell_type": "markdown",
   "metadata": {},
   "source": [
    "## Train a Random Forest Classifier"
   ]
  },
  {
   "cell_type": "code",
   "execution_count": 5,
   "metadata": {
    "execution": {
     "iopub.execute_input": "2023-11-15T08:00:55.724482Z",
     "iopub.status.busy": "2023-11-15T08:00:55.724175Z",
     "iopub.status.idle": "2023-11-15T08:01:01.068798Z",
     "shell.execute_reply": "2023-11-15T08:01:01.067943Z"
    }
   },
   "outputs": [
    {
     "name": "stdout",
     "output_type": "stream",
     "text": [
      "Random Forest Accuracy: 0.6472131147540984\n",
      "              precision    recall  f1-score   support\n",
      "\n",
      "           0       0.65      0.68      0.67      2359\n",
      "           1       0.64      0.61      0.63      2216\n",
      "\n",
      "    accuracy                           0.65      4575\n",
      "   macro avg       0.65      0.65      0.65      4575\n",
      "weighted avg       0.65      0.65      0.65      4575\n",
      "\n"
     ]
    }
   ],
   "source": [
    "from sklearn.ensemble import RandomForestClassifier\n",
    "\n",
    "# Initialize the Random Forest model\n",
    "rf_model = RandomForestClassifier(n_estimators=100, random_state=42)\n",
    "\n",
    "# Train the Random Forest model on the imputed data (no need to scale for tree-based models)\n",
    "rf_model.fit(X_train_imputed, y_train)\n",
    "\n",
    "# Predict on the imputed test set\n",
    "rf_predictions = rf_model.predict(X_test_imputed)\n",
    "\n",
    "# Evaluate the Random Forest model\n",
    "rf_accuracy = accuracy_score(y_test, rf_predictions)\n",
    "print(f\"Random Forest Accuracy: {rf_accuracy}\")\n",
    "print(classification_report(y_test, rf_predictions))"
   ]
  },
  {
   "cell_type": "code",
   "execution_count": 6,
   "metadata": {
    "execution": {
     "iopub.execute_input": "2023-11-15T08:01:01.074196Z",
     "iopub.status.busy": "2023-11-15T08:01:01.074023Z",
     "iopub.status.idle": "2023-11-15T08:01:22.086056Z",
     "shell.execute_reply": "2023-11-15T08:01:22.085051Z"
    }
   },
   "outputs": [
    {
     "name": "stdout",
     "output_type": "stream",
     "text": [
      "Random Forest CV scores: [0.64535519 0.6442623  0.64061219 0.65482372 0.63241323]\n",
      "Random Forest CV mean score: 0.6434933250895688\n"
     ]
    }
   ],
   "source": [
    "# Perform 5-fold cross-validation for Random Forest\n",
    "rf_cv_scores = cross_val_score(rf_model, X_train_imputed, y_train, cv=5)\n",
    "print(f\"Random Forest CV scores: {rf_cv_scores}\")\n",
    "print(f\"Random Forest CV mean score: {rf_cv_scores.mean()}\")"
   ]
  },
  {
   "cell_type": "markdown",
   "metadata": {},
   "source": [
    "## Train a Gradient Boosting Classifier"
   ]
  },
  {
   "cell_type": "code",
   "execution_count": 7,
   "metadata": {
    "execution": {
     "iopub.execute_input": "2023-11-15T08:01:22.091103Z",
     "iopub.status.busy": "2023-11-15T08:01:22.090910Z",
     "iopub.status.idle": "2023-11-15T08:01:29.047152Z",
     "shell.execute_reply": "2023-11-15T08:01:29.046340Z"
    }
   },
   "outputs": [
    {
     "name": "stdout",
     "output_type": "stream",
     "text": [
      "Gradient Boosting Accuracy: 0.6157377049180328\n",
      "              precision    recall  f1-score   support\n",
      "\n",
      "           0       0.62      0.65      0.64      2359\n",
      "           1       0.61      0.58      0.59      2216\n",
      "\n",
      "    accuracy                           0.62      4575\n",
      "   macro avg       0.62      0.61      0.61      4575\n",
      "weighted avg       0.62      0.62      0.62      4575\n",
      "\n"
     ]
    }
   ],
   "source": [
    "from sklearn.ensemble import GradientBoostingClassifier\n",
    "\n",
    "# Initialize the Gradient Boosting model\n",
    "gb_model = GradientBoostingClassifier(n_estimators=100, random_state=42)\n",
    "\n",
    "# Train the Gradient Boosting model on the imputed data\n",
    "gb_model.fit(X_train_imputed, y_train)\n",
    "\n",
    "# Predict on the imputed test set\n",
    "gb_predictions = gb_model.predict(X_test_imputed)\n",
    "\n",
    "# Evaluate the Gradient Boosting model\n",
    "gb_accuracy = accuracy_score(y_test, gb_predictions)\n",
    "print(f\"Gradient Boosting Accuracy: {gb_accuracy}\")\n",
    "print(classification_report(y_test, gb_predictions))"
   ]
  },
  {
   "cell_type": "code",
   "execution_count": 8,
   "metadata": {
    "execution": {
     "iopub.execute_input": "2023-11-15T08:01:29.052493Z",
     "iopub.status.busy": "2023-11-15T08:01:29.052312Z",
     "iopub.status.idle": "2023-11-15T08:01:56.853920Z",
     "shell.execute_reply": "2023-11-15T08:01:56.852640Z"
    }
   },
   "outputs": [
    {
     "name": "stdout",
     "output_type": "stream",
     "text": [
      "Gradient Boosting CV scores: [0.61174863 0.60519126 0.61546871 0.62995354 0.594698  ]\n",
      "Gradient Boosting CV mean score: 0.6114120284290401\n"
     ]
    }
   ],
   "source": [
    "# Perform 5-fold cross-validation for Gradient Boosting\n",
    "gb_cv_scores = cross_val_score(gb_model, X_train_imputed, y_train, cv=5)\n",
    "print(f\"Gradient Boosting CV scores: {gb_cv_scores}\")\n",
    "print(f\"Gradient Boosting CV mean score: {gb_cv_scores.mean()}\")"
   ]
  },
  {
   "cell_type": "markdown",
   "metadata": {},
   "source": [
    "# Conclusion\n",
    "In this notebook, we have explored a proof of concept for deepfake detection using facial landmark variance as a distinguishing feature between real and fake videos. Our initial exploratory data analysis suggested that variances in the movement of facial landmarks could be promising indicators of video authenticity.\n",
    "\n",
    "We did this by extracting facial landmark data from a subset of our video dataset and generating features based on the variance of landmark movements. We then trained basic machine learning models, including Logistic Regression and Support Vector Machines, to classify videos as real or fake based on these features.\n",
    "\n",
    "The performance of these initial models provided encouraging results, with accuracy scores that demonstrate the potential viability of using landmark variance as a feature for deepfake detection. While the accuracy is not perfect, it is significantly better than random chance, suggesting that the features contain meaningful information about video authenticity.\n",
    "\n",
    "Next Steps \n",
    "\n",
    "1.) The results from this notebook serve as a strong foundation for our next phase of work, which involves several key steps:\n",
    "\n",
    "2.) Full Dataset Training: We will scale up our efforts by training models on the full dataset, which will likely enhance the robustness and generalizability of our findings.\n",
    "\n",
    "3.) Refined Model Development: A more sophisticated model will be developed to directly compare pairs of videos — one real and one fake — to identify the inauthentic one. This approach is expected to have high accuracy as it will leverage the subtle differnces between an original and its corresponding deepfake.\n",
    "\n",
    "Feature Engineering and Model Tuning: Further feature engineering and hyperparameter tuning will be conducted to improve the models. \n",
    "\n",
    "By following these steps, we aim to develop a robust deepfake detection system that can serve as a valuable tool in the fight against digital misinformation. Our work contributes to the broader effort to maintain integrity and trust in digital media.\n",
    "\n"
   ]
  }
 ],
 "metadata": {
  "kernelspec": {
   "display_name": "Python 3",
   "language": "python",
   "name": "python3"
  },
  "language_info": {
   "codemirror_mode": {
    "name": "ipython",
    "version": 3
   },
   "file_extension": ".py",
   "mimetype": "text/x-python",
   "name": "python",
   "nbconvert_exporter": "python",
   "pygments_lexer": "ipython3",
   "version": "3.10.12"
  }
 },
 "nbformat": 4,
 "nbformat_minor": 2
}
