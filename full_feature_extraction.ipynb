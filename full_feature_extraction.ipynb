{
 "cells": [
  {
   "cell_type": "code",
   "execution_count": 1,
   "metadata": {},
   "outputs": [],
   "source": [
    "from classes import *\n",
    "import constants as c\n",
    "import pandas as pd\n",
    "import warnings\n",
    "warnings.filterwarnings('ignore')"
   ]
  },
  {
   "cell_type": "code",
   "execution_count": 2,
   "metadata": {},
   "outputs": [],
   "source": [
    "metadata = Metadata(c.FULL_DATA_DIR, sample=False)"
   ]
  },
  {
   "cell_type": "code",
   "execution_count": 3,
   "metadata": {},
   "outputs": [],
   "source": [
    "df = metadata.balanced()"
   ]
  },
  {
   "cell_type": "code",
   "execution_count": 4,
   "metadata": {},
   "outputs": [
    {
     "data": {
      "text/html": [
       "<div>\n",
       "<style scoped>\n",
       "    .dataframe tbody tr th:only-of-type {\n",
       "        vertical-align: middle;\n",
       "    }\n",
       "\n",
       "    .dataframe tbody tr th {\n",
       "        vertical-align: top;\n",
       "    }\n",
       "\n",
       "    .dataframe thead th {\n",
       "        text-align: right;\n",
       "    }\n",
       "</style>\n",
       "<table border=\"1\" class=\"dataframe\">\n",
       "  <thead>\n",
       "    <tr style=\"text-align: right;\">\n",
       "      <th></th>\n",
       "      <th>id</th>\n",
       "      <th>folder</th>\n",
       "      <th>original</th>\n",
       "    </tr>\n",
       "  </thead>\n",
       "  <tbody>\n",
       "    <tr>\n",
       "      <th>10</th>\n",
       "      <td>sezqbnpzft</td>\n",
       "      <td>14</td>\n",
       "      <td>NaN</td>\n",
       "    </tr>\n",
       "    <tr>\n",
       "      <th>0</th>\n",
       "      <td>fmdhqnkvyo</td>\n",
       "      <td>14</td>\n",
       "      <td>filuudleua</td>\n",
       "    </tr>\n",
       "    <tr>\n",
       "      <th>35</th>\n",
       "      <td>xdxfmvnghz</td>\n",
       "      <td>14</td>\n",
       "      <td>NaN</td>\n",
       "    </tr>\n",
       "    <tr>\n",
       "      <th>1</th>\n",
       "      <td>eeubskpxct</td>\n",
       "      <td>14</td>\n",
       "      <td>hdunuumyxa</td>\n",
       "    </tr>\n",
       "    <tr>\n",
       "      <th>43</th>\n",
       "      <td>ogzbfoyxdh</td>\n",
       "      <td>14</td>\n",
       "      <td>NaN</td>\n",
       "    </tr>\n",
       "    <tr>\n",
       "      <th>2</th>\n",
       "      <td>wvrzowftpz</td>\n",
       "      <td>14</td>\n",
       "      <td>ujivurbzyc</td>\n",
       "    </tr>\n",
       "    <tr>\n",
       "      <th>73</th>\n",
       "      <td>kzrjkklsin</td>\n",
       "      <td>14</td>\n",
       "      <td>NaN</td>\n",
       "    </tr>\n",
       "    <tr>\n",
       "      <th>3</th>\n",
       "      <td>dhikrifybo</td>\n",
       "      <td>14</td>\n",
       "      <td>xpgnlphhug</td>\n",
       "    </tr>\n",
       "    <tr>\n",
       "      <th>75</th>\n",
       "      <td>xitvbsjxoe</td>\n",
       "      <td>14</td>\n",
       "      <td>NaN</td>\n",
       "    </tr>\n",
       "    <tr>\n",
       "      <th>4</th>\n",
       "      <td>rxwbejjdyl</td>\n",
       "      <td>14</td>\n",
       "      <td>wpdrxrheoy</td>\n",
       "    </tr>\n",
       "    <tr>\n",
       "      <th>99</th>\n",
       "      <td>ltfagtaafd</td>\n",
       "      <td>14</td>\n",
       "      <td>NaN</td>\n",
       "    </tr>\n",
       "    <tr>\n",
       "      <th>5</th>\n",
       "      <td>huaqkbikyr</td>\n",
       "      <td>14</td>\n",
       "      <td>odcqqwiwzs</td>\n",
       "    </tr>\n",
       "    <tr>\n",
       "      <th>119</th>\n",
       "      <td>ylbdflgawa</td>\n",
       "      <td>14</td>\n",
       "      <td>NaN</td>\n",
       "    </tr>\n",
       "    <tr>\n",
       "      <th>6</th>\n",
       "      <td>kswayywkup</td>\n",
       "      <td>14</td>\n",
       "      <td>kyiivwctwe</td>\n",
       "    </tr>\n",
       "    <tr>\n",
       "      <th>141</th>\n",
       "      <td>zbapyydbhw</td>\n",
       "      <td>14</td>\n",
       "      <td>NaN</td>\n",
       "    </tr>\n",
       "    <tr>\n",
       "      <th>7</th>\n",
       "      <td>uyaoyhigkg</td>\n",
       "      <td>14</td>\n",
       "      <td>afuahfjtdh</td>\n",
       "    </tr>\n",
       "    <tr>\n",
       "      <th>152</th>\n",
       "      <td>srdimtqpip</td>\n",
       "      <td>14</td>\n",
       "      <td>NaN</td>\n",
       "    </tr>\n",
       "    <tr>\n",
       "      <th>8</th>\n",
       "      <td>lywcagznan</td>\n",
       "      <td>14</td>\n",
       "      <td>xpgnlphhug</td>\n",
       "    </tr>\n",
       "    <tr>\n",
       "      <th>154</th>\n",
       "      <td>evelnossix</td>\n",
       "      <td>14</td>\n",
       "      <td>NaN</td>\n",
       "    </tr>\n",
       "    <tr>\n",
       "      <th>9</th>\n",
       "      <td>lyufssfwyp</td>\n",
       "      <td>14</td>\n",
       "      <td>ylbdflgawa</td>\n",
       "    </tr>\n",
       "  </tbody>\n",
       "</table>\n",
       "</div>"
      ],
      "text/plain": [
       "             id folder    original\n",
       "10   sezqbnpzft     14         NaN\n",
       "0    fmdhqnkvyo     14  filuudleua\n",
       "35   xdxfmvnghz     14         NaN\n",
       "1    eeubskpxct     14  hdunuumyxa\n",
       "43   ogzbfoyxdh     14         NaN\n",
       "2    wvrzowftpz     14  ujivurbzyc\n",
       "73   kzrjkklsin     14         NaN\n",
       "3    dhikrifybo     14  xpgnlphhug\n",
       "75   xitvbsjxoe     14         NaN\n",
       "4    rxwbejjdyl     14  wpdrxrheoy\n",
       "99   ltfagtaafd     14         NaN\n",
       "5    huaqkbikyr     14  odcqqwiwzs\n",
       "119  ylbdflgawa     14         NaN\n",
       "6    kswayywkup     14  kyiivwctwe\n",
       "141  zbapyydbhw     14         NaN\n",
       "7    uyaoyhigkg     14  afuahfjtdh\n",
       "152  srdimtqpip     14         NaN\n",
       "8    lywcagznan     14  xpgnlphhug\n",
       "154  evelnossix     14         NaN\n",
       "9    lyufssfwyp     14  ylbdflgawa"
      ]
     },
     "execution_count": 4,
     "metadata": {},
     "output_type": "execute_result"
    }
   ],
   "source": [
    "df.head(20)"
   ]
  },
  {
   "cell_type": "code",
   "execution_count": 6,
   "metadata": {},
   "outputs": [
    {
     "name": "stdout",
     "output_type": "stream",
     "text": [
      "data/full_data/dfdc_train_part_14/sezqbnpzft.mp4\n",
      "Loading frames for video sezqbnpzft...\n"
     ]
    },
    {
     "name": "stderr",
     "output_type": "stream",
     "text": [
      "  0%|          | 0/10 [00:00<?, ?it/s]"
     ]
    },
    {
     "name": "stderr",
     "output_type": "stream",
     "text": [
      "100%|██████████| 10/10 [00:09<00:00,  1.02it/s]\n"
     ]
    },
    {
     "name": "stdout",
     "output_type": "stream",
     "text": [
      "data/full_data/dfdc_train_part_14/fmdhqnkvyo.mp4\n",
      "Loading frames for video fmdhqnkvyo...\n"
     ]
    },
    {
     "name": "stderr",
     "output_type": "stream",
     "text": [
      "100%|██████████| 10/10 [00:09<00:00,  1.02it/s]\n"
     ]
    },
    {
     "name": "stdout",
     "output_type": "stream",
     "text": [
      "data/full_data/dfdc_train_part_14/xdxfmvnghz.mp4\n",
      "Loading frames for video xdxfmvnghz...\n"
     ]
    },
    {
     "name": "stderr",
     "output_type": "stream",
     "text": [
      "100%|██████████| 10/10 [00:16<00:00,  1.68s/it]\n"
     ]
    },
    {
     "name": "stdout",
     "output_type": "stream",
     "text": [
      "Frame has no face\n",
      "Frame has no face\n",
      "Frame has no face\n",
      "Frame has no face\n",
      "Frame has no face\n",
      "Frame has no face\n",
      "Frame has no face\n",
      "Frame has no face\n",
      "Frame has no face\n",
      "data/full_data/dfdc_train_part_14/eeubskpxct.mp4\n",
      "Loading frames for video eeubskpxct...\n"
     ]
    },
    {
     "name": "stderr",
     "output_type": "stream",
     "text": [
      "100%|██████████| 10/10 [00:17<00:00,  1.74s/it]\n"
     ]
    },
    {
     "name": "stdout",
     "output_type": "stream",
     "text": [
      "Frame has no face\n",
      "Frame has no face\n",
      "Frame has no face\n",
      "Frame has no face\n",
      "Frame has no face\n",
      "Frame has no face\n",
      "Frame has no face\n",
      "Frame has no face\n",
      "Frame has no face\n",
      "Frame has no face\n",
      "data/full_data/dfdc_train_part_14/ogzbfoyxdh.mp4\n",
      "Loading frames for video ogzbfoyxdh...\n"
     ]
    },
    {
     "name": "stderr",
     "output_type": "stream",
     "text": [
      "100%|██████████| 10/10 [00:09<00:00,  1.02it/s]\n"
     ]
    },
    {
     "name": "stdout",
     "output_type": "stream",
     "text": [
      "data/full_data/dfdc_train_part_14/wvrzowftpz.mp4\n",
      "Loading frames for video wvrzowftpz...\n"
     ]
    },
    {
     "name": "stderr",
     "output_type": "stream",
     "text": [
      "100%|██████████| 10/10 [00:09<00:00,  1.02it/s]\n"
     ]
    },
    {
     "name": "stdout",
     "output_type": "stream",
     "text": [
      "data/full_data/dfdc_train_part_14/kzrjkklsin.mp4\n",
      "Loading frames for video kzrjkklsin...\n"
     ]
    },
    {
     "name": "stderr",
     "output_type": "stream",
     "text": [
      "100%|██████████| 10/10 [00:09<00:00,  1.01it/s]\n"
     ]
    },
    {
     "name": "stdout",
     "output_type": "stream",
     "text": [
      "data/full_data/dfdc_train_part_14/dhikrifybo.mp4\n",
      "Loading frames for video dhikrifybo...\n"
     ]
    },
    {
     "name": "stderr",
     "output_type": "stream",
     "text": [
      "100%|██████████| 10/10 [00:09<00:00,  1.01it/s]\n"
     ]
    },
    {
     "name": "stdout",
     "output_type": "stream",
     "text": [
      "data/full_data/dfdc_train_part_14/xitvbsjxoe.mp4\n",
      "Loading frames for video xitvbsjxoe...\n"
     ]
    },
    {
     "name": "stderr",
     "output_type": "stream",
     "text": [
      "100%|██████████| 10/10 [00:17<00:00,  1.75s/it]\n"
     ]
    },
    {
     "name": "stdout",
     "output_type": "stream",
     "text": [
      "Frame has no face\n",
      "Frame has no face\n",
      "Frame has no face\n",
      "Frame has no face\n",
      "Frame has no face\n",
      "Frame has no face\n",
      "Frame has no face\n",
      "Frame has no face\n",
      "Frame has no face\n",
      "Frame has no face\n",
      "data/full_data/dfdc_train_part_14/rxwbejjdyl.mp4\n",
      "Loading frames for video rxwbejjdyl...\n"
     ]
    },
    {
     "name": "stderr",
     "output_type": "stream",
     "text": [
      "100%|██████████| 10/10 [00:17<00:00,  1.76s/it]\n"
     ]
    },
    {
     "name": "stdout",
     "output_type": "stream",
     "text": [
      "Frame has no face\n",
      "Frame has no face\n",
      "Frame has no face\n",
      "Frame has no face\n",
      "Frame has no face\n",
      "Frame has no face\n",
      "Frame has no face\n",
      "Frame has no face\n",
      "Frame has no face\n",
      "Frame has no face\n",
      "data/full_data/dfdc_train_part_14/ltfagtaafd.mp4\n",
      "Loading frames for video ltfagtaafd...\n"
     ]
    },
    {
     "name": "stderr",
     "output_type": "stream",
     "text": [
      "100%|██████████| 10/10 [00:09<00:00,  1.03it/s]\n"
     ]
    },
    {
     "name": "stdout",
     "output_type": "stream",
     "text": [
      "data/full_data/dfdc_train_part_14/huaqkbikyr.mp4\n",
      "Loading frames for video huaqkbikyr...\n"
     ]
    },
    {
     "name": "stderr",
     "output_type": "stream",
     "text": [
      "100%|██████████| 10/10 [00:09<00:00,  1.03it/s]\n"
     ]
    },
    {
     "name": "stdout",
     "output_type": "stream",
     "text": [
      "data/full_data/dfdc_train_part_14/ylbdflgawa.mp4\n",
      "Loading frames for video ylbdflgawa...\n"
     ]
    },
    {
     "name": "stderr",
     "output_type": "stream",
     "text": [
      "100%|██████████| 10/10 [00:14<00:00,  1.49s/it]\n"
     ]
    },
    {
     "name": "stdout",
     "output_type": "stream",
     "text": [
      "Frame has no face\n",
      "Frame has no face\n",
      "Frame has no face\n",
      "Frame has no face\n",
      "Frame has no face\n",
      "Frame has no face\n",
      "Frame has no face\n",
      "data/full_data/dfdc_train_part_14/kswayywkup.mp4\n",
      "Loading frames for video kswayywkup...\n"
     ]
    },
    {
     "name": "stderr",
     "output_type": "stream",
     "text": [
      " 40%|████      | 4/10 [00:07<00:11,  1.94s/it]\n"
     ]
    },
    {
     "ename": "KeyboardInterrupt",
     "evalue": "",
     "output_type": "error",
     "traceback": [
      "\u001b[0;31m---------------------------------------------------------------------------\u001b[0m",
      "\u001b[0;31mKeyboardInterrupt\u001b[0m                         Traceback (most recent call last)",
      "\u001b[1;32m/data1/belalm/Capstone/full_feature_extraction.ipynb Cell 6\u001b[0m line \u001b[0;36m4\n\u001b[1;32m      <a href='vscode-notebook-cell://ssh-remote%2Bdeepnet1.qatar.cmu.edu/data1/belalm/Capstone/full_feature_extraction.ipynb#W5sdnNjb2RlLXJlbW90ZQ%3D%3D?line=1'>2</a>\u001b[0m \u001b[39mfor\u001b[39;00m _, row \u001b[39min\u001b[39;00m df\u001b[39m.\u001b[39miterrows():\n\u001b[1;32m      <a href='vscode-notebook-cell://ssh-remote%2Bdeepnet1.qatar.cmu.edu/data1/belalm/Capstone/full_feature_extraction.ipynb#W5sdnNjb2RlLXJlbW90ZQ%3D%3D?line=2'>3</a>\u001b[0m     \u001b[39mid\u001b[39m, folder, _ \u001b[39m=\u001b[39m row\n\u001b[0;32m----> <a href='vscode-notebook-cell://ssh-remote%2Bdeepnet1.qatar.cmu.edu/data1/belalm/Capstone/full_feature_extraction.ipynb#W5sdnNjb2RlLXJlbW90ZQ%3D%3D?line=3'>4</a>\u001b[0m     Video(metadata, \u001b[39mid\u001b[39;49m, \u001b[39m10\u001b[39;49m, \u001b[39mFalse\u001b[39;49;00m, \u001b[39m\"\u001b[39;49m\u001b[39m\"\u001b[39;49m)\u001b[39m.\u001b[39m_export_features(\u001b[39m'\u001b[39m\u001b[39m./data/landmarks/\u001b[39m\u001b[39m'\u001b[39m)\n",
      "File \u001b[0;32m~/Capstone/classes.py:21\u001b[0m, in \u001b[0;36mVideo.__init__\u001b[0;34m(self, metadata, id, frameLimit, sample, tq)\u001b[0m\n\u001b[1;32m     19\u001b[0m \u001b[39mself\u001b[39m\u001b[39m.\u001b[39m_get_file_path(metadata, \u001b[39mid\u001b[39m, sample\u001b[39m=\u001b[39msample)\n\u001b[1;32m     20\u001b[0m \u001b[39mself\u001b[39m\u001b[39m.\u001b[39m_load_video_metadata()\n\u001b[0;32m---> 21\u001b[0m \u001b[39mself\u001b[39;49m\u001b[39m.\u001b[39;49m_load_frames(frameLimit\u001b[39m=\u001b[39;49mframeLimit, tq\u001b[39m=\u001b[39;49mtq)\n\u001b[1;32m     22\u001b[0m \u001b[39mself\u001b[39m\u001b[39m.\u001b[39m_get_all_frame_features()\n\u001b[1;32m     23\u001b[0m \u001b[39mself\u001b[39m\u001b[39m.\u001b[39m_get_all_frame_feature_centers()\n",
      "File \u001b[0;32m~/Capstone/classes.py:560\u001b[0m, in \u001b[0;36mVideo._load_frames\u001b[0;34m(self, frameLimit, tq)\u001b[0m\n\u001b[1;32m    558\u001b[0m \u001b[39mprint\u001b[39m(\u001b[39mf\u001b[39m\u001b[39m\"\u001b[39m\u001b[39mLoading frames for video \u001b[39m\u001b[39m{\u001b[39;00m\u001b[39mself\u001b[39m\u001b[39m.\u001b[39mid\u001b[39m}\u001b[39;00m\u001b[39m...\u001b[39m\u001b[39m\"\u001b[39m)\n\u001b[1;32m    559\u001b[0m \u001b[39mfor\u001b[39;00m frame_number \u001b[39min\u001b[39;00m _tqdm(\u001b[39mrange\u001b[39m(frameLimit)):\n\u001b[0;32m--> 560\u001b[0m     \u001b[39mself\u001b[39m\u001b[39m.\u001b[39mframes\u001b[39m.\u001b[39mappend(Frame(\u001b[39mself\u001b[39;49m\u001b[39m.\u001b[39;49mcap, \u001b[39mself\u001b[39;49m, frame_number))\n\u001b[1;32m    561\u001b[0m \u001b[39mfor\u001b[39;00m frame \u001b[39min\u001b[39;00m \u001b[39mself\u001b[39m\u001b[39m.\u001b[39mframes:\n\u001b[1;32m    562\u001b[0m     \u001b[39mself\u001b[39m\u001b[39m.\u001b[39mface_detections\u001b[39m.\u001b[39mappend(frame\u001b[39m.\u001b[39mhasFace())\n",
      "File \u001b[0;32m~/Capstone/classes.py:903\u001b[0m, in \u001b[0;36mFrame.__init__\u001b[0;34m(self, cap, video, frame_number)\u001b[0m\n\u001b[1;32m    901\u001b[0m \u001b[39mself\u001b[39m\u001b[39m.\u001b[39mframe_number \u001b[39m=\u001b[39m frame_number\n\u001b[1;32m    902\u001b[0m \u001b[39mself\u001b[39m\u001b[39m.\u001b[39mframe \u001b[39m=\u001b[39m \u001b[39mself\u001b[39m\u001b[39m.\u001b[39m_get_frame()\n\u001b[0;32m--> 903\u001b[0m \u001b[39mself\u001b[39;49m\u001b[39m.\u001b[39;49m_get_face_locations()\n\u001b[1;32m    904\u001b[0m \u001b[39mself\u001b[39m\u001b[39m.\u001b[39m_get_face_encodings()\n\u001b[1;32m    905\u001b[0m \u001b[39mself\u001b[39m\u001b[39m.\u001b[39m_get_face_landmarks()\n",
      "File \u001b[0;32m~/Capstone/classes.py:1041\u001b[0m, in \u001b[0;36mFrame._get_face_locations\u001b[0;34m(self)\u001b[0m\n\u001b[1;32m   1040\u001b[0m \u001b[39mdef\u001b[39;00m \u001b[39m_get_face_locations\u001b[39m(\u001b[39mself\u001b[39m):\n\u001b[0;32m-> 1041\u001b[0m     faces \u001b[39m=\u001b[39m face_locations(\u001b[39mself\u001b[39;49m\u001b[39m.\u001b[39;49mframe)\n\u001b[1;32m   1042\u001b[0m     num_faces \u001b[39m=\u001b[39m \u001b[39mlen\u001b[39m(faces)\n\u001b[1;32m   1043\u001b[0m     \u001b[39mself\u001b[39m\u001b[39m.\u001b[39mface_locations \u001b[39m=\u001b[39m \u001b[39mNone\u001b[39;00m \u001b[39mif\u001b[39;00m num_faces \u001b[39m==\u001b[39m \u001b[39m0\u001b[39m \u001b[39melse\u001b[39;00m faces\n",
      "File \u001b[0;32m~/.local/lib/python3.10/site-packages/face_recognition/api.py:121\u001b[0m, in \u001b[0;36mface_locations\u001b[0;34m(img, number_of_times_to_upsample, model)\u001b[0m\n\u001b[1;32m    119\u001b[0m     \u001b[39mreturn\u001b[39;00m [_trim_css_to_bounds(_rect_to_css(face\u001b[39m.\u001b[39mrect), img\u001b[39m.\u001b[39mshape) \u001b[39mfor\u001b[39;00m face \u001b[39min\u001b[39;00m _raw_face_locations(img, number_of_times_to_upsample, \u001b[39m\"\u001b[39m\u001b[39mcnn\u001b[39m\u001b[39m\"\u001b[39m)]\n\u001b[1;32m    120\u001b[0m \u001b[39melse\u001b[39;00m:\n\u001b[0;32m--> 121\u001b[0m     \u001b[39mreturn\u001b[39;00m [_trim_css_to_bounds(_rect_to_css(face), img\u001b[39m.\u001b[39mshape) \u001b[39mfor\u001b[39;00m face \u001b[39min\u001b[39;00m _raw_face_locations(img, number_of_times_to_upsample, model)]\n",
      "File \u001b[0;32m~/.local/lib/python3.10/site-packages/face_recognition/api.py:105\u001b[0m, in \u001b[0;36m_raw_face_locations\u001b[0;34m(img, number_of_times_to_upsample, model)\u001b[0m\n\u001b[1;32m    103\u001b[0m     \u001b[39mreturn\u001b[39;00m cnn_face_detector(img, number_of_times_to_upsample)\n\u001b[1;32m    104\u001b[0m \u001b[39melse\u001b[39;00m:\n\u001b[0;32m--> 105\u001b[0m     \u001b[39mreturn\u001b[39;00m face_detector(img, number_of_times_to_upsample)\n",
      "\u001b[0;31mKeyboardInterrupt\u001b[0m: "
     ]
    }
   ],
   "source": [
    "# Iterate over all ids and extract features\n",
    "for _, row in df.iterrows():\n",
    "    id, folder, _ = row\n",
    "    Video(metadata, id, 50, False, \"\")._export_features('./data/landmarks/')"
   ]
  }
 ],
 "metadata": {
  "kernelspec": {
   "display_name": "Python 3",
   "language": "python",
   "name": "python3"
  },
  "language_info": {
   "codemirror_mode": {
    "name": "ipython",
    "version": 3
   },
   "file_extension": ".py",
   "mimetype": "text/x-python",
   "name": "python",
   "nbconvert_exporter": "python",
   "pygments_lexer": "ipython3",
   "version": "3.10.12"
  }
 },
 "nbformat": 4,
 "nbformat_minor": 2
}
